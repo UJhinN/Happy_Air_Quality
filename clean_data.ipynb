{
 "cells": [
  {
   "cell_type": "code",
   "execution_count": 1,
   "metadata": {},
   "outputs": [
    {
     "name": "stdout",
     "output_type": "stream",
     "text": [
      "<class 'pandas.core.frame.DataFrame'>\n",
      "RangeIndex: 1728 entries, 0 to 1727\n",
      "Data columns (total 6 columns):\n",
      " #   Column        Non-Null Count  Dtype         \n",
      "---  ------        --------------  -----         \n",
      " 0   DATETIMEDATA  1728 non-null   datetime64[ns]\n",
      " 1   PM25          1704 non-null   float64       \n",
      " 2   TEMP          1728 non-null   int64         \n",
      " 3   WS            1728 non-null   int64         \n",
      " 4   RH            1728 non-null   int64         \n",
      " 5   WD            1728 non-null   int64         \n",
      "dtypes: datetime64[ns](1), float64(1), int64(4)\n",
      "memory usage: 81.1 KB\n",
      "<class 'pandas.core.frame.DataFrame'>\n",
      "RangeIndex: 1728 entries, 0 to 1727\n",
      "Data columns (total 6 columns):\n",
      " #   Column        Non-Null Count  Dtype         \n",
      "---  ------        --------------  -----         \n",
      " 0   DATETIMEDATA  1728 non-null   datetime64[ns]\n",
      " 1   PM25          1728 non-null   float64       \n",
      " 2   TEMP          1728 non-null   int64         \n",
      " 3   WS            1728 non-null   int64         \n",
      " 4   RH            1728 non-null   int64         \n",
      " 5   WD            1728 non-null   int64         \n",
      "dtypes: datetime64[ns](1), float64(1), int64(4)\n",
      "memory usage: 81.1 KB\n"
     ]
    },
    {
     "name": "stderr",
     "output_type": "stream",
     "text": [
      "/tmp/ipykernel_120535/1764495777.py:9: FutureWarning: A value is trying to be set on a copy of a DataFrame or Series through chained assignment using an inplace method.\n",
      "The behavior will change in pandas 3.0. This inplace method will never work because the intermediate object on which we are setting values always behaves as a copy.\n",
      "\n",
      "For example, when doing 'df[col].method(value, inplace=True)', try using 'df.method({col: value}, inplace=True)' or df[col] = df[col].method(value) instead, to perform the operation inplace on the original object.\n",
      "\n",
      "\n",
      "  data['PM25'].fillna(mean_pm, inplace = True)\n"
     ]
    }
   ],
   "source": [
    "import pandas as pd\n",
    "data = pd.read_csv(\"air4thai_44t_2024-01-01_2024-03-12.csv\")\n",
    "data = pd.DataFrame(data=data)\n",
    "del data['Unnamed: 0']\n",
    "data['DATETIMEDATA'] = pd.to_datetime(data['DATETIMEDATA'])\n",
    "\n",
    "data.info()\n",
    "mean_pm = data['PM25'].mean()\n",
    "data['PM25'].fillna(mean_pm, inplace = True)\n",
    "data.info()\n"
   ]
  },
  {
   "cell_type": "code",
   "execution_count": 2,
   "metadata": {},
   "outputs": [],
   "source": [
    "data.to_csv('clean_data_air4thai.csv')"
   ]
  }
 ],
 "metadata": {
  "kernelspec": {
   "display_name": "venv",
   "language": "python",
   "name": "python3"
  },
  "language_info": {
   "codemirror_mode": {
    "name": "ipython",
    "version": 3
   },
   "file_extension": ".py",
   "mimetype": "text/x-python",
   "name": "python",
   "nbconvert_exporter": "python",
   "pygments_lexer": "ipython3",
   "version": "3.11.8"
  }
 },
 "nbformat": 4,
 "nbformat_minor": 2
}
